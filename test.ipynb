{
 "cells": [
  {
   "cell_type": "code",
   "execution_count": 23,
   "metadata": {},
   "outputs": [],
   "source": [
    "import numpy as np\n",
    "import matplotlib.pyplot as plt\n",
    "try:\n",
    "    import simpleaudio as sa\n",
    "except:\n",
    "    %pip install simpleaudio\n",
    "    import simpleaudio as sa"
   ]
  },
  {
   "cell_type": "code",
   "execution_count": 86,
   "metadata": {},
   "outputs": [
    {
     "name": "stdout",
     "output_type": "stream",
     "text": [
      "32762.429979685003 10944.845253249046\n",
      "32762.429979685006 10944.84525324905\n"
     ]
    }
   ],
   "source": [
    "# calculate note frequencies\n",
    "A_freq = 440\n",
    "Csh_freq = A_freq * 2 ** (4 / 12)\n",
    "E_freq = A_freq * 2 ** (7 / 12)\n",
    "\n",
    "c = 255/np.log(255)\n",
    "\n",
    "#R_val = 0\n",
    "#G_val = 255\n",
    "#B_val = 100\n",
    "\n",
    "# get timesteps for each sample, T is note duration in seconds\n",
    "sample_rate = 44100\n",
    "T = 1\n",
    "interval = int(sample_rate*T)\n",
    "t = np.linspace(0, T, interval, False)\n",
    "\n",
    "# generate sine wave notes\n",
    "def generate_sound(R_val, G_val, B_val):\n",
    "    sin_scal = t * 2 * np.pi\n",
    "    amp_scal = 1/np.log(R_val + G_val + B_val)\n",
    "\n",
    "    def generate_sins(R,G,B):\n",
    "        R_1 = R*np.sin(A_freq   * sin_scal)\n",
    "        G_1 = G*np.sin(Csh_freq * sin_scal)\n",
    "        B_1 = B*np.sin(E_freq   * sin_scal)\n",
    "        rv = R_1 + G_1 + B_1\n",
    "        rv*= amp_scal\n",
    "        return rv\n",
    "\n",
    "    LOC_WHITE = generate_sins(255,255,255)\n",
    "\n",
    "    out = generate_sins(R_val, G_val, B_val)\n",
    "    \n",
    "    # normalize to 16-bit range\n",
    "    out*= 32767 / np.max(np.abs(LOC_WHITE))\n",
    "    return out\n",
    "\n",
    "def generate_sound_no_scal(R_val, G_val, B_val):\n",
    "    sin_scal = t * 2 * np.pi\n",
    "\n",
    "    def generate_sins(R,G,B):\n",
    "        R_1 = R*np.sin(A_freq   * sin_scal)\n",
    "        G_1 = G*np.sin(Csh_freq * sin_scal)\n",
    "        B_1 = B*np.sin(E_freq   * sin_scal)\n",
    "        return R_1 + G_1 + B_1\n",
    "    \n",
    "    LOC_WHITE = generate_sins(255,255,255)\n",
    "\n",
    "    out = generate_sins(R_val, G_val, B_val)\n",
    "    \n",
    "    # normalize to 16-bit range\n",
    "    out*= 32767 / np.max(np.abs(LOC_WHITE))\n",
    "    return out\n",
    "\n",
    "WHITE = generate_sound(255,255,255)\n",
    "WHITE_NO_SCAL = generate_sound_no_scal(255,255,255)\n",
    "\n",
    "# concatenate notes\n",
    "#audio = np.hstack((A_note, Csh_note, E_note))\n",
    "audio = np.hstack((WHITE, WHITE_NO_SCAL, generate_sound(0,0,255), generate_sound_no_scal(0,0,255)))\n",
    "\n",
    "print(np.max(WHITE), np.max(generate_sound(0,0,255)))\n",
    "print(np.max(WHITE_NO_SCAL), np.max(generate_sound_no_scal(0,0,255)))\n",
    "# convert to 16-bit data\n",
    "audio = audio.astype(np.int16)\n",
    "\n",
    "# start playback\n",
    "play_obj = sa.play_buffer(audio, 1, 2, sample_rate)\n",
    "\n",
    "# wait for playback to finish before exiting\n",
    "play_obj.wait_done()\n"
   ]
  },
  {
   "cell_type": "code",
   "execution_count": null,
   "metadata": {},
   "outputs": [],
   "source": []
  },
  {
   "cell_type": "code",
   "execution_count": null,
   "metadata": {},
   "outputs": [],
   "source": []
  }
 ],
 "metadata": {
  "interpreter": {
   "hash": "aee8b7b246df8f9039afb4144a1f6fd8d2ca17a180786b69acc140d282b71a49"
  },
  "kernelspec": {
   "display_name": "Python 3.8.3 64-bit",
   "language": "python",
   "name": "python3"
  },
  "language_info": {
   "codemirror_mode": {
    "name": "ipython",
    "version": 3
   },
   "file_extension": ".py",
   "mimetype": "text/x-python",
   "name": "python",
   "nbconvert_exporter": "python",
   "pygments_lexer": "ipython3",
   "version": "3.8.3"
  },
  "orig_nbformat": 4
 },
 "nbformat": 4,
 "nbformat_minor": 2
}
