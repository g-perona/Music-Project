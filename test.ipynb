{
 "cells": [
  {
   "cell_type": "code",
   "execution_count": 95,
   "metadata": {},
   "outputs": [],
   "source": [
    "import numpy as np\n",
    "import matplotlib.pyplot as plt\n",
    "try:\n",
    "    import simpleaudio as sa\n",
    "except:\n",
    "    %pip install simpleaudio\n",
    "    import simpleaudio as sa\n",
    "from IPython.display import Audio\n",
    "import ipywidgets as widgets\n",
    "from IPython.display import display"
   ]
  },
  {
   "cell_type": "code",
   "execution_count": 119,
   "metadata": {},
   "outputs": [
    {
     "name": "stdout",
     "output_type": "stream",
     "text": [
      "32762.429979685003 10944.845253249046\n",
      "32762.429979685006 10944.84525324905\n"
     ]
    }
   ],
   "source": [
    "# calculate note frequencies\n",
    "A_freq = 440\n",
    "Csh_freq = A_freq * 2 ** (4 / 12)\n",
    "E_freq = A_freq * 2 ** (7 / 12)\n",
    "\n",
    "c = 255/np.log(255)\n",
    "\n",
    "#R_val = 0\n",
    "#G_val = 255\n",
    "#B_val = 100\n",
    "\n",
    "# get timesteps for each sample, T is note duration in seconds\n",
    "sample_rate = 44100\n",
    "T = 1\n",
    "interval = int(sample_rate*T)\n",
    "t = np.linspace(0, T, interval, False)\n",
    "\n",
    "# generate sine wave notes\n",
    "def generate_sound(R_val, G_val, B_val):\n",
    "    sin_scal = t * 2 * np.pi\n",
    "    amp_scal = 1/np.log(R_val + G_val + B_val)\n",
    "\n",
    "    def generate_sins(R,G,B):\n",
    "        R_1 = R*np.sin(A_freq   * sin_scal)\n",
    "        G_1 = G*np.sin(Csh_freq * sin_scal)\n",
    "        B_1 = B*np.sin(E_freq   * sin_scal)\n",
    "        rv = R_1 + G_1 + B_1\n",
    "        rv*= amp_scal\n",
    "        return rv\n",
    "\n",
    "    LOC_WHITE = generate_sins(255,255,255)\n",
    "\n",
    "    out = generate_sins(R_val, G_val, B_val)\n",
    "    \n",
    "    # normalize to 16-bit range\n",
    "    out*= 32767 / np.max(np.abs(LOC_WHITE))\n",
    "    return out\n",
    "\n",
    "def generate_sound_no_scal(R_val, G_val, B_val):\n",
    "    sin_scal = t * 2 * np.pi\n",
    "\n",
    "    def generate_sins(R,G,B):\n",
    "        R_1 = R*np.sin(A_freq   * sin_scal)\n",
    "        G_1 = G*np.sin(Csh_freq * sin_scal)\n",
    "        B_1 = B*np.sin(E_freq   * sin_scal)\n",
    "        return R_1 + G_1 + B_1\n",
    "    \n",
    "    LOC_WHITE = generate_sins(255,255,255)\n",
    "\n",
    "    out = generate_sins(R_val, G_val, B_val)\n",
    "    \n",
    "    # normalize to 16-bit range\n",
    "    out*= 32767 / np.max(np.abs(LOC_WHITE))\n",
    "    return out\n",
    "\n",
    "WHITE = generate_sound(255,255,255)\n",
    "WHITE_NO_SCAL = generate_sound_no_scal(255,255,255)\n",
    "\n",
    "# concatenate notes\n",
    "#audio = np.hstack((A_note, Csh_note, E_note))\n",
    "audio = np.hstack((generate_sound(10,87,172), generate_sound(172,87,10)))\n",
    "\n",
    "print(np.max(WHITE), np.max(generate_sound(0,0,255)))\n",
    "print(np.max(WHITE_NO_SCAL), np.max(generate_sound_no_scal(0,0,255)))\n",
    "\n",
    "\n",
    "### BEGIN UNCOMMENT\n",
    "# convert to 16-bit data\n",
    "#audio = audio.astype(np.int16)\n",
    "\n",
    "# start playback\n",
    "#play_obj = sa.play_buffer(audio, 1, 2, sample_rate)\n",
    "\n",
    "# wait for playback to finish before exiting\n",
    "#play_obj.wait_done()\n",
    "### END UNCOMMENT\n",
    "\n",
    "Audio(data=audio, rate=sample_rate)"
   ]
  },
  {
   "cell_type": "code",
   "execution_count": 148,
   "metadata": {},
   "outputs": [
    {
     "data": {
      "application/vnd.jupyter.widget-view+json": {
       "model_id": "69dcafeaf4b34464a04d1315237dd5c7",
       "version_major": 2,
       "version_minor": 0
      },
      "text/plain": [
       "ColorPicker(value='white', concise=True, description='Pick a color')"
      ]
     },
     "metadata": {},
     "output_type": "display_data"
    },
    {
     "data": {
      "application/vnd.jupyter.widget-view+json": {
       "model_id": "7e78a522cae84f398c48e92b9c2d6188",
       "version_major": 2,
       "version_minor": 0
      },
      "text/plain": [
       "Button(description='Click me', icon='check', style=ButtonStyle(), tooltip='Description')"
      ]
     },
     "metadata": {},
     "output_type": "display_data"
    },
    {
     "data": {
      "application/vnd.jupyter.widget-view+json": {
       "model_id": "b678e076b40c4125b714566b4b897fa4",
       "version_major": 2,
       "version_minor": 0
      },
      "text/plain": [
       "Output()"
      ]
     },
     "metadata": {},
     "output_type": "display_data"
    }
   ],
   "source": [
    "color = widgets.ColorPicker(\n",
    "    concise=True,\n",
    "    description='Pick a color',\n",
    "    value='white',\n",
    "    disabled=False\n",
    ")\n",
    "button = widgets.Button(\n",
    "    value=False,\n",
    "    description='Click me',\n",
    "    disabled=False,\n",
    "    button_style='', # 'success', 'info', 'warning', 'danger' or ''\n",
    "    tooltip='Description',\n",
    "    icon='check'\n",
    ")\n",
    "\n",
    "output = widgets.Output()\n",
    "\n",
    "display(color, button, output)\n",
    "\n",
    "def on_button_clicked(b):\n",
    "    print('ahdlkgfshf')\n",
    "    color.disabled = True\n",
    "    button.disabled = True\n",
    "\n",
    "button.on_click(on_button_clicked)"
   ]
  },
  {
   "cell_type": "code",
   "execution_count": 149,
   "metadata": {},
   "outputs": [
    {
     "data": {
      "text/plain": [
       "[100, 150, 50]"
      ]
     },
     "execution_count": 149,
     "metadata": {},
     "output_type": "execute_result"
    }
   ],
   "source": [
    "def hex_to_rgb(hex):\n",
    "  rgb = []\n",
    "  for i in (0, 2, 4):\n",
    "    decimal = int(hex[i:i+2], 16)\n",
    "    rgb.append(decimal)\n",
    "  \n",
    "  return rgb\n",
    "\n",
    "hex_to_rgb(color.value[1:])"
   ]
  },
  {
   "cell_type": "code",
   "execution_count": 121,
   "metadata": {},
   "outputs": [
    {
     "data": {
      "text/plain": [
       "'Button widget.\\n\\n    This widget has an `on_click` method that allows you to listen for the\\n    user clicking on the button.  The click event itself is stateless.\\n\\n    Parameters\\n    ----------\\n    description: str\\n       description displayed next to the button\\n    tooltip: str\\n       tooltip caption of the toggle button\\n    icon: str\\n       font-awesome icon name\\n    disabled: bool\\n       whether user interaction is enabled\\n    '"
      ]
     },
     "execution_count": 121,
     "metadata": {},
     "output_type": "execute_result"
    }
   ],
   "source": [
    "widgets.Button.__doc__"
   ]
  },
  {
   "cell_type": "code",
   "execution_count": null,
   "metadata": {},
   "outputs": [],
   "source": []
  }
 ],
 "metadata": {
  "interpreter": {
   "hash": "aee8b7b246df8f9039afb4144a1f6fd8d2ca17a180786b69acc140d282b71a49"
  },
  "kernelspec": {
   "display_name": "Python 3.8.3 64-bit",
   "language": "python",
   "name": "python3"
  },
  "language_info": {
   "codemirror_mode": {
    "name": "ipython",
    "version": 3
   },
   "file_extension": ".py",
   "mimetype": "text/x-python",
   "name": "python",
   "nbconvert_exporter": "python",
   "pygments_lexer": "ipython3",
   "version": "3.8.3"
  },
  "orig_nbformat": 4
 },
 "nbformat": 4,
 "nbformat_minor": 2
}
