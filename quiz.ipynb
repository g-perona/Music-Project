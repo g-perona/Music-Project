{
 "cells": [
  {
   "cell_type": "markdown",
   "metadata": {},
   "source": [
    "# Music 128 Final Project: Sonifying Colors\n",
    "### Giuseppe Perona\n",
    "## I) Introduction:\n",
    "This document involves running code in a Jupyter Notebook (this document). Click once on this cell and you should see it become selected if it isn't already. Then, press `shift` and `return` if you're using a Mac and `alt` and `enter` if you're using Windows. This will execute this cell (which will do nothing, since this is a text cell), and move you to the next cell. The next cell imports all of the packages we'll need for this project, such as `numpy`, a powerful tool for generating and storing lists of numbers. We're also using `matplotlib` to plot graphs, and `simpleaudio` to play sounds. If you find that the audio doesn't work, please use the mybinder.org link that should be included with the submission. If you accidentally edit the code, try reopening the mybinder.org link. If your edit remains, send me an email, and I should be able to revert to the previous email easily. If mybinder.org isn't working, send me an email, and I will try to fix it. It is important to run each cell in order unless I state otherwise. There are some points that you can jump back to, such as the beginning of each quiz question that will be pointed out. Now, execute the next cell with all the `import` statements."
   ]
  },
  {
   "cell_type": "code",
   "execution_count": null,
   "metadata": {},
   "outputs": [],
   "source": [
    "import numpy as np\n",
    "import matplotlib.pyplot as plt\n",
    "from matplotlib import colors\n",
    "try:\n",
    "    import simpleaudio as sa\n",
    "except:\n",
    "    %pip install simpleaudio\n",
    "    import simpleaudio as sa\n",
    "from IPython.display import Audio\n",
    "import ipywidgets as widgets\n",
    "from IPython.display import display\n",
    "from mpl_toolkits.mplot3d import Axes3D\n"
   ]
  },
  {
   "cell_type": "markdown",
   "metadata": {},
   "source": [
    "## II) Setup\n",
    "In the next cell, we have some code that forms the backbone of our sonification. In this project I am representing colors as sounds. A color has a red, a green, and a blue value, each of which ranges from 0 to 255. In my sonification, each color will be a mixture of three notes: A, C# and E. These notes will be played at volumes corresponding to its red, green, and blue values, with A corresponding to red, C# corresponding to green, and E corresponding to green. Therefore, a deep purple $(50,0,50)$ will be the A and the E played at low volume, simultaneously. A bright orange $(255, 100, 0)$ will be the A played loudly and the C# played less loudly. In this project, the A is 440 Hz, the C# is the next highest C# (554 Hz), and the E is the next highest E (650 Hz). To play the sounds, we sample the sine waves with our desired parameters for A, C# and E, 44100 times per second, and then add them together. Feel free to read the comments in green about the code, but there is no need to understand them or the code itself. Now, run the next cell (`shift` + `return` or equivalent)."
   ]
  },
  {
   "cell_type": "code",
   "execution_count": null,
   "metadata": {},
   "outputs": [],
   "source": [
    "# calculate note frequencies\n",
    "A_freq = 440\n",
    "Csh_freq = A_freq * 2 ** (4 / 12)\n",
    "E_freq = A_freq * 2 ** (7 / 12)\n",
    "\n",
    "c = 255/np.log(255)\n",
    "\n",
    "# get timesteps for each sample, T is note duration in seconds\n",
    "sample_rate = 44100\n",
    "T = 1\n",
    "interval = int(sample_rate*T)\n",
    "t = np.linspace(0, T, interval, False)\n",
    "\n",
    "# generate sine wave notes\n",
    "def generate_sound(rgb):\n",
    "    sin_scal = t * 2 * np.pi\n",
    "\n",
    "    def generate_sins(rgb):\n",
    "        rgb_scal = rgb/255\n",
    "\n",
    "        max = np.max(rgb_scal)\n",
    "\n",
    "        R = rgb_scal[0]\n",
    "        G = rgb_scal[1]\n",
    "        B = rgb_scal[2]\n",
    "\n",
    "        R_1 = (50**R / 50**max)*np.sin(A_freq   * sin_scal)\n",
    "        G_1 = (50**G / 50**max)*np.sin(Csh_freq * sin_scal)\n",
    "        B_1 = (50**B / 50**max)*np.sin(E_freq   * sin_scal)\n",
    "        return R_1 + G_1 + B_1\n",
    "    \n",
    "    LOC_WHITE = generate_sins(np.array(np.array([255,255,255])))\n",
    "\n",
    "    out = np.hstack([generate_sins(rgb), np.max(LOC_WHITE)])\n",
    "    \n",
    "    # normalize to 16-bit range\n",
    "    out*= 32767 #/ np.max(np.abs(LOC_WHITE))\n",
    "    return out\n",
    "\n"
   ]
  },
  {
   "cell_type": "markdown",
   "metadata": {},
   "source": [
    "## III) Examples\n",
    "Running the following code will generate a series of example colors followed by each of their corresponding audios. The first 6 colors will be the same every time you run the cell, but the last 5 (in accordance with the `num_extra` variable) are randomly generated. Listen carefully to each color several times. This is your chance to get a feel for how the sonification works. Also, feel free to rerun the cell to refresh the last 5 colors by simply scrolling back up to it, clicking on it, and pressing `shift` + `return` as usual. Run the next cell."
   ]
  },
  {
   "cell_type": "code",
   "execution_count": null,
   "metadata": {},
   "outputs": [],
   "source": [
    "def generate_random_color():\n",
    "    # Generates an np array with three entries, \n",
    "    # each ranging from 0 to 255, representing a color\n",
    "    return np.random.randint(256, size=3)\n",
    "\n",
    "def plot_colored_square(rgb):\n",
    "    # Takes an np array RGB, representing a color, \n",
    "    # and plots a square corresponding to that color\n",
    "    col = colors.to_hex(rgb/255)\n",
    "    x,y = [-1,1,1,-1],[-1,-1,1,1]\n",
    "    plt.figure(figsize=(3,3))\n",
    "    plt.axis('equal')\n",
    "    plt.fill(x, y, col)\n",
    "    plt.show()\n",
    "\n",
    "def generate_examples(color_list):\n",
    "    #Takes a list of colors, COLOR_LIST and runs PLOT_COLORED_SQUARE for each color, \n",
    "    # and creates an audio player for the sound corresponding to that color\n",
    "    for c in color_list:\n",
    "        plot_colored_square(c)\n",
    "        display(Audio(data = generate_sound(c), rate = sample_rate))\n",
    "    \n",
    "# a list of example colors RED, GREEN, BLUE, YELLOW, CYAN, MAGENTA, respectively.\n",
    "color_list = [np.array([255,0,0]), np.array([0,255,0]), np.array([0,0,255]),\n",
    "              np.array([200,200,0]), np.array([0,200,200]), np.array([200,0,200])]\n",
    "\n",
    "# adds NUM_EXTRA random colors to COLOR_LIST\n",
    "i = 0\n",
    "num_extra = 5\n",
    "while i < num_extra:\n",
    "    c = generate_random_color()\n",
    "    if np.min(np.linalg.norm(c - color_list, axis = 1)) < 130:\n",
    "        continue\n",
    "    else:\n",
    "        color_list.append(c)\n",
    "        i += 1\n",
    "\n",
    "generate_examples(color_list)"
   ]
  },
  {
   "cell_type": "markdown",
   "metadata": {},
   "source": [
    "## IV) Quiz 1\n",
    "Up next is the first quiz question. Here, you have the chance to test your skills at interpreting the sonification. Ten audios, each with a corresponding color picker underneath will be displayed when you run the next cell. Listen to the audio, then pick the color you think it represents in the color picker. Clicking `Confirm` will lock in your answer. It is not necessary to click `Confirm`, but once you do you can no longer edit your answer. Clicking the button prevents you from going back and changing your answers after you have completed the quiz. This doesn't have a huge effect, but it could make interpreting your results more confusing. The cell after this next one compiles your results and should print out a list of numbers corresponding to your distance from the true color on each guess. Results can range from 0, meaning you guessed the color exactly to 441, meaning you were as far off as possible, eg. picking white when the correct answer was black. Distances below 100 are impressive. If you want to start the quiz over for whatever reason, return to this cell, and run the cells again as if it as if it was your first time doing the quiz. When you're ready, run the next cell, and the one after."
   ]
  },
  {
   "cell_type": "code",
   "execution_count": null,
   "metadata": {},
   "outputs": [],
   "source": [
    "def generate_n_pickers(n):\n",
    "    #returns np array of N color pickers\n",
    "    rv = np.array([])\n",
    "    for _ in range(n):\n",
    "        cp = widgets.ColorPicker(\n",
    "        concise=True,\n",
    "        description='Pick a color',\n",
    "        value='white',\n",
    "        disabled=False\n",
    "        )\n",
    "        rv = np.append(rv, cp)\n",
    "    return rv\n",
    "\n",
    "def generate_n_buttons(n):\n",
    "    #returns np array of N confirmation buttons\n",
    "    rv = np.array([])\n",
    "    for i in range(n):\n",
    "        b = widgets.Button(\n",
    "        value=False,\n",
    "        description='Confirm',\n",
    "        disabled=False,\n",
    "        tooltip=str(i),\n",
    "        icon='check'\n",
    "        )\n",
    "        rv = np.append(rv, b)\n",
    "    return rv\n",
    "\n",
    "def generate_n_colors(n):\n",
    "    #returns np array of N random colors\n",
    "    rv = np.array([generate_random_color()])\n",
    "    for _ in range(1,n):\n",
    "        rv = np.append(rv, [generate_random_color()], axis = 0)\n",
    "    return rv\n",
    "\n",
    "def generate_n_sounds(n):\n",
    "    #returns np array of N sounds from N randomly generated colors, as well as this np array of colors\n",
    "    rv = np.array([])\n",
    "    col = generate_n_colors(n)\n",
    "    for c in col:\n",
    "        a = Audio(data = generate_sound(c), rate = sample_rate)\n",
    "        rv = np.append(rv, a)\n",
    "    return rv, col\n",
    "\n",
    "N = 10\n",
    "pickers = generate_n_pickers(N)\n",
    "buttons = generate_n_buttons(N)\n",
    "sounds, targets = generate_n_sounds(N)\n",
    "\n",
    "for i in range(N):\n",
    "    display(sounds[i], pickers[i], buttons[i])\n",
    "\n",
    "def on_button_clicked(b):\n",
    "    #create individual on_button_clicked functions for each button, tying it to corresponding cp\n",
    "    i = int(b.tooltip)\n",
    "    pickers[i].disabled = True\n",
    "    b.disabled = True\n",
    "\n",
    "for b in buttons:\n",
    "    b.on_click(on_button_clicked)"
   ]
  },
  {
   "cell_type": "code",
   "execution_count": null,
   "metadata": {},
   "outputs": [],
   "source": [
    "guesses = np.array([np.array(colors.to_rgb(pickers[0].value)) * 255])\n",
    "for i in range(1,N):\n",
    "    c = np.array(colors.to_rgb(pickers[i].value)) * 255\n",
    "    guesses = np.append(guesses, [c], axis = 0)\n",
    "\n",
    "differences = guesses - targets\n",
    "distances = np.linalg.norm(differences, axis = 1)\n",
    "distances"
   ]
  },
  {
   "cell_type": "markdown",
   "metadata": {},
   "source": [
    "The next cell will plot your results in 3 dimensions, with the x-axis corresponding to the red, the y-axis to the green, and the z-axis to the blue values of a color. Vectors corresponding to each axis's color will be plotted along each of the 3 axes. Each guess will have a number plotted next to it, and a black outline. It will also have a vector pointing to the correct answer, which will be outlined in red. Running this next cell, as well as the two that follow it will show you the 3-D plot from 3 different angles (each with a different axis as the vertical axis). Here, you will be able to see how far off your guesses were graphically. The plots tend to be cluttered, so while a guess may not be clear on one plot, it probably will be easier to discern on one or two of the others."
   ]
  },
  {
   "cell_type": "code",
   "execution_count": null,
   "metadata": {},
   "outputs": [],
   "source": [
    "#%matplotlib widget\n",
    "\n",
    "fig = plt.figure(figsize=(5,5))\n",
    "plt.subplot(121)\n",
    "ax = Axes3D(fig)\n",
    "\n",
    "ax.set_xlim(0,255)\n",
    "ax.set_ylim(0,255)\n",
    "ax.set_zlim(0,255)\n",
    "\n",
    "#Plot red, green, and blue axes as vectors.\n",
    "ax.quiver(0,0,0,255,0,0, color = 'r')\n",
    "ax.quiver(0,0,0,0,255,0, color = 'g')\n",
    "ax.quiver(0,0,0,0,0,255, color = 'b')\n",
    "\n",
    "for i in range(N):\n",
    "    g = guesses[i]\n",
    "    t = targets[i]\n",
    "    cg = colors.to_hex(g/255)\n",
    "    ct = colors.to_hex(t/255)\n",
    "    ax.scatter(g[0], g[1], g[2], c = cg, edgecolors = 'black', s=75, linewidth = 1)\n",
    "    ax.text(g[0], g[1], g[2], '%s' % str(i), color = 'k', size = 20)\n",
    "    ax.scatter(t[0], t[1], t[2], c = ct, edgecolors = 'red', s=75, linewidth = 1)\n",
    "    ax.quiver(g[0], g[1], g[2], t[0] - g[0], t[1] - g[1], t[2] - g[2])\n",
    "ax.view_init(40,-45,'x')"
   ]
  },
  {
   "cell_type": "code",
   "execution_count": null,
   "metadata": {},
   "outputs": [],
   "source": [
    "ax.view_init(40,-45,'y')\n",
    "ax.figure"
   ]
  },
  {
   "cell_type": "code",
   "execution_count": null,
   "metadata": {},
   "outputs": [],
   "source": [
    "ax.view_init(40,-45,'z')\n",
    "ax.figure"
   ]
  },
  {
   "cell_type": "markdown",
   "metadata": {},
   "source": [
    "This next cell will simulate a large amount of random guesses, and then output your guesses' percentile (a number between 0 and 100) among those random guesses. Results under the 5th percentile indicate that your guesses were more accurate than we would reasonably expect them to be if left up to random chance, and results over the 95th percentile indicate that you are inaccurate beyond what could be attributed to random chance. Note that the following cell could take a few seconds to run, as it involves executing 10,000 random trials (see the `trials` variable)."
   ]
  },
  {
   "cell_type": "code",
   "execution_count": null,
   "metadata": {},
   "outputs": [],
   "source": [
    "trials = 10000\n",
    "rand_dists = np.array([[]])\n",
    "\n",
    "for i in range(trials):\n",
    "    sample = np.array([np.random.randint(255, size = 3)])\n",
    "    for j in range(N-1):\n",
    "        sample = np.append(sample, [np.random.randint(255, size = 3)], axis = 0)\n",
    "    rand_dists = np.append( rand_dists, np.linalg.norm(sample - targets))\n",
    "\n",
    "guess_dist = np.linalg.norm(distances)\n",
    "\n",
    "\n",
    "def find_pct(target, data):\n",
    "    if target > np.max(data):\n",
    "        return 100\n",
    "    if target < np.min(data):\n",
    "        return 0\n",
    "\n",
    "\n",
    "    diff = 100\n",
    "    p = 50\n",
    "    step = 50\n",
    "\n",
    "    while np.abs(diff) > 0.1:\n",
    "        diff = target - np.percentile(data, p)\n",
    "        if diff > 0:\n",
    "            p += step\n",
    "            step /= 2\n",
    "        else:\n",
    "            p -= step\n",
    "            step /= 2\n",
    "    return p\n",
    "\n",
    "find_pct(guess_dist, rand_dists)"
   ]
  },
  {
   "cell_type": "markdown",
   "metadata": {},
   "source": [
    "## V) Quiz 2\n",
    "This next quiz tests your ability to tell the distance between two colors. Ten pairs of audio samples, each followed by a slider will pop up when you run the next cell. On each slider, input what you think the distance between the two sounds you hear is. The slider goes between 0 and 441, as 0 is the minimum distance, ie. the colors are exactly the same, and 441 is the maximum possible distance, ie. one color is black, the other is white, or one color is cyan, the other is red. Note that extreme values are much less likely because the colors, when plotted in 3-D space exist inside a cube, and higher distances force possible combinations of colors into opposite corners of the cube, where space is more limited. The cell after the next will compile your results and print a list of the difference between your guess and the acutal distance between the two sounds played for each guess, respectively. If you would like to retake this quiz, return to this cell and rerun the quiz as if it was your first time. When you're ready to start the quiz, run the next cell."
   ]
  },
  {
   "cell_type": "code",
   "execution_count": null,
   "metadata": {},
   "outputs": [],
   "source": [
    "def generate_n_sliders(N):\n",
    "    rv = np.array([])\n",
    "    for _ in range(N):\n",
    "        s = widgets.FloatSlider(\n",
    "            value=0,\n",
    "            min=0,\n",
    "            max=np.linalg.norm([255,255,255]),\n",
    "            step=0.1,\n",
    "            description='Distance:',\n",
    "            disabled=False,\n",
    "            continuous_update=False,\n",
    "            orientation='horizontal',\n",
    "            readout=True,\n",
    "            readout_format='.1f')\n",
    "        rv = np.append(rv, s)\n",
    "    return rv\n",
    "\n",
    "sounds, targets = generate_n_sounds(2*N)\n",
    "sliders = generate_n_sliders(N)\n",
    "\n",
    "for i in range(N):\n",
    "    display(sounds[2*i], sounds[2*i+1], sliders[i])\n"
   ]
  },
  {
   "cell_type": "code",
   "execution_count": null,
   "metadata": {},
   "outputs": [],
   "source": [
    "dist_diff = np.array([])\n",
    "target_dists = np.array([])\n",
    "guesses = np.array([])\n",
    "rand_guesses = np.random.randint(np.linalg.norm([255,255,255]), size = N)\n",
    "for i in range(N):\n",
    "    target_dists = np.append(target_dists, np.linalg.norm((targets[2*i+1] - targets[2*i])))\n",
    "    d = np.abs(target_dists[i] - sliders[i].value)\n",
    "    guesses = np.append(guesses, sliders[i].value)\n",
    "    dist_diff = np.append(dist_diff, d)\n",
    "\n",
    "np.abs(guesses - target_dists)"
   ]
  },
  {
   "cell_type": "markdown",
   "metadata": {},
   "source": [
    "This next cell plots your guesses (black) against a series of 10 random guesses (blue), while the true distances are plotted in red. The horizontal axis corresponds to the quiz question number, so the data for your 5th guess are the points above 5 on the horizontal axis."
   ]
  },
  {
   "cell_type": "code",
   "execution_count": null,
   "metadata": {},
   "outputs": [],
   "source": [
    "x = np.arange(1,N+1)\n",
    "plt.scatter(x, rand_guesses)\n",
    "plt.scatter(x,target_dists, color = 'r')\n",
    "plt.scatter(x,guesses, color = 'black')"
   ]
  },
  {
   "cell_type": "markdown",
   "metadata": {},
   "source": [
    "This last cell generates a large amount of random guesses, then outputs the percentile of your guesses among the random ones. As before results less than the 5th percentile indicate that your accuracy is due to more than just random chance."
   ]
  },
  {
   "cell_type": "code",
   "execution_count": null,
   "metadata": {},
   "outputs": [],
   "source": [
    "rand_dists = np.array([])\n",
    "for i in range(trials):\n",
    "    sample = np.random.randint(np.linalg.norm([255,255,255]), size = N)\n",
    "    dist = np.linalg.norm(sample - target_dists)\n",
    "    rand_dists = np.append(rand_dists, dist)\n",
    "\n",
    "sd = np.std(rand_dists)\n",
    "mean = np.mean(rand_dists)\n",
    "\n",
    "guess_dist = np.linalg.norm(guesses - target_dists)\n",
    "\n",
    "find_pct(guess_dist, rand_dists)"
   ]
  },
  {
   "cell_type": "markdown",
   "metadata": {},
   "source": [
    "## VI) Summary\n",
    "My first step in this project was determining in what way to sonify color. I settled on translating the RGB values to three different tones, as I saw this as a reasonably direct pathway, and the easiest option to measure individuals' success with. Other options included representing named colors as chords, but this proved complicated to implement, and very impractical to measure accuracy on, as the only way to determine colors from sounds is to memorize which colors correspond to which chords. Either one has this information memorzied or one does not, but there is less smooth of a gradient between knowing and not knowing. A goal of my project at the beginning was to send the quiz to several people and collect and display their results. This proved to be very complicated and difficult. Setting up the sonification took a couple of hours of work per day spanned over two or three days, and efforts to automatically collect respondents' data took just as long. If I want to achieve this functionality, I probably have to set up a website myself, and do a great deal of background work with servers and database systems, which I have no experience with. As a result, I gave up on trying to implement this functionality and settled on comparing respondents' results to a series of random guesses. I feel like this still gives users some benchmark of where they stand, and an idea of how much they can improve, but if I come back to this project I want to try to add in true survey functionality."
   ]
  }
 ],
 "metadata": {
  "interpreter": {
   "hash": "aee8b7b246df8f9039afb4144a1f6fd8d2ca17a180786b69acc140d282b71a49"
  },
  "kernelspec": {
   "display_name": "Python 3.8.3 64-bit",
   "language": "python",
   "name": "python3"
  },
  "language_info": {
   "codemirror_mode": {
    "name": "ipython",
    "version": 3
   },
   "file_extension": ".py",
   "mimetype": "text/x-python",
   "name": "python",
   "nbconvert_exporter": "python",
   "pygments_lexer": "ipython3",
   "version": "3.8.3"
  },
  "orig_nbformat": 4
 },
 "nbformat": 4,
 "nbformat_minor": 2
}
